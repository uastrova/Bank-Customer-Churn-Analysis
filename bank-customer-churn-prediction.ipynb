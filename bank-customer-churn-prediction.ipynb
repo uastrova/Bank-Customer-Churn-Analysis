{
 "cells": [
  {
   "cell_type": "markdown",
   "id": "db3c7b4f",
   "metadata": {
    "papermill": {
     "duration": 0.003493,
     "end_time": "2025-08-19T21:22:00.651199",
     "exception": false,
     "start_time": "2025-08-19T21:22:00.647706",
     "status": "completed"
    },
    "tags": []
   },
   "source": [
    "# **Анализ оттока клиентов банка**\n",
    "\n",
    "# Введение\n",
    "\n",
    "**Целью** данного исследования является выявление сегментов клиентов банка, которые в наибольшей степени склонны уходить, выявление ключевых причин оттока, предложение мер для удержания клиентов, построение и сравнительный анализ моделей машинного обучения по прогнозированию ухода клиента.\n",
    "\n",
    "**Задачи:**\n",
    "1) Загрузка датасета и импорт библиотек\n",
    "2) Разведочный анализ данных (EDA)\n",
    "3) Составление портретов клиентов\n",
    "4) Проверка статистических гипотез\n",
    "5) Составление сегментов киентов в соответствии с их подверженности уходу из банка\n",
    "6) Подготовка рекомендаций для бизнеса\n",
    "7) Построение модели машинного обучения\n",
    "   1. Подготовка датасета\n",
    "  "
   ]
  },
  {
   "cell_type": "markdown",
   "id": "ef1b240b",
   "metadata": {
    "papermill": {
     "duration": 0.002296,
     "end_time": "2025-08-19T21:22:00.656325",
     "exception": false,
     "start_time": "2025-08-19T21:22:00.654029",
     "status": "completed"
    },
    "tags": []
   },
   "source": [
    "# 1. Загрузка датасета и импорт библиотек"
   ]
  },
  {
   "cell_type": "markdown",
   "id": "a882bc0c",
   "metadata": {
    "papermill": {
     "duration": 0.00242,
     "end_time": "2025-08-19T21:22:00.661333",
     "exception": false,
     "start_time": "2025-08-19T21:22:00.658913",
     "status": "completed"
    },
    "tags": []
   },
   "source": [
    "Для данного исследования использовался датасет с Kaggle: [Bank Customer Churn Prediction dataset](http://www.kaggle.com/datasets/shantanudhakadd/bank-customer-churn-prediction).\n",
    "\n",
    "Датасет представляет собой набор данных о пользователях банка США.\n",
    "\n",
    "* **Customer ID**: ID для каждого клиента\n",
    "* **Surname**: фамилия клиента\n",
    "* **Credit Score**: кредитный рейтинг \n",
    "* **Geography**: страна проживания \n",
    "* **Gender**: пол \n",
    "* **Age**: возраст\n",
    "* **Tenure**: количество лет, в течение которых пользователь является клиентом банка\n",
    "* **Balance**: баланс счета\n",
    "* **NumOfProducts**: количество банковских продуктов, которыми пользуется клиент (сберегательный счет, кредитная карта и др.)\n",
    "* **HasCrCard**: имеет ли клиент кредитную карту\n",
    "* **IsActiveMember**: активный ли клиент\n",
    "* **EstimatedSalary**: предполагаемая зарплата клиента \n",
    "* **Exited**: ушел ли клиент (целевая переменная)"
   ]
  },
  {
   "cell_type": "code",
   "execution_count": 1,
   "id": "718858c8",
   "metadata": {
    "execution": {
     "iopub.execute_input": "2025-08-19T21:22:00.668597Z",
     "iopub.status.busy": "2025-08-19T21:22:00.668274Z",
     "iopub.status.idle": "2025-08-19T21:22:13.154454Z",
     "shell.execute_reply": "2025-08-19T21:22:13.153736Z"
    },
    "papermill": {
     "duration": 12.491956,
     "end_time": "2025-08-19T21:22:13.155947",
     "exception": false,
     "start_time": "2025-08-19T21:22:00.663991",
     "status": "completed"
    },
    "tags": []
   },
   "outputs": [],
   "source": [
    "import pandas as pd\n",
    "import numpy as np\n",
    "import seaborn as sns\n",
    "import matplotlib.pyplot as plt\n",
    "from scipy import stats as st\n",
    "\n",
    "import xgboost as xgb\n",
    "from sklearn.model_selection import train_test_split, GridSearchCV\n",
    "from sklearn.model_selection import train_test_split\n",
    "from sklearn.inspection import permutation_importance\n",
    "from sklearn.metrics import confusion_matrix\n",
    "from sklearn.metrics import ConfusionMatrixDisplay\n",
    "import shap\n",
    "\n",
    "import warnings\n",
    "warnings.filterwarnings(\"ignore\")"
   ]
  },
  {
   "cell_type": "code",
   "execution_count": 2,
   "id": "64a0e3cf",
   "metadata": {
    "execution": {
     "iopub.execute_input": "2025-08-19T21:22:13.162228Z",
     "iopub.status.busy": "2025-08-19T21:22:13.161883Z",
     "iopub.status.idle": "2025-08-19T21:22:13.215315Z",
     "shell.execute_reply": "2025-08-19T21:22:13.214583Z"
    },
    "papermill": {
     "duration": 0.05797,
     "end_time": "2025-08-19T21:22:13.216838",
     "exception": false,
     "start_time": "2025-08-19T21:22:13.158868",
     "status": "completed"
    },
    "tags": []
   },
   "outputs": [],
   "source": [
    "# сохраним файл с данными в переменную df\n",
    "df = pd.read_csv('/kaggle/input/bank-customer-churn-prediction/Churn_Modelling.csv')"
   ]
  },
  {
   "cell_type": "code",
   "execution_count": 3,
   "id": "e2404330",
   "metadata": {
    "execution": {
     "iopub.execute_input": "2025-08-19T21:22:13.223538Z",
     "iopub.status.busy": "2025-08-19T21:22:13.223240Z",
     "iopub.status.idle": "2025-08-19T21:22:13.246722Z",
     "shell.execute_reply": "2025-08-19T21:22:13.245859Z"
    },
    "papermill": {
     "duration": 0.028393,
     "end_time": "2025-08-19T21:22:13.248180",
     "exception": false,
     "start_time": "2025-08-19T21:22:13.219787",
     "status": "completed"
    },
    "tags": []
   },
   "outputs": [
    {
     "data": {
      "text/html": [
       "<div>\n",
       "<style scoped>\n",
       "    .dataframe tbody tr th:only-of-type {\n",
       "        vertical-align: middle;\n",
       "    }\n",
       "\n",
       "    .dataframe tbody tr th {\n",
       "        vertical-align: top;\n",
       "    }\n",
       "\n",
       "    .dataframe thead th {\n",
       "        text-align: right;\n",
       "    }\n",
       "</style>\n",
       "<table border=\"1\" class=\"dataframe\">\n",
       "  <thead>\n",
       "    <tr style=\"text-align: right;\">\n",
       "      <th></th>\n",
       "      <th>RowNumber</th>\n",
       "      <th>CustomerId</th>\n",
       "      <th>Surname</th>\n",
       "      <th>CreditScore</th>\n",
       "      <th>Geography</th>\n",
       "      <th>Gender</th>\n",
       "      <th>Age</th>\n",
       "      <th>Tenure</th>\n",
       "      <th>Balance</th>\n",
       "      <th>NumOfProducts</th>\n",
       "      <th>HasCrCard</th>\n",
       "      <th>IsActiveMember</th>\n",
       "      <th>EstimatedSalary</th>\n",
       "      <th>Exited</th>\n",
       "    </tr>\n",
       "  </thead>\n",
       "  <tbody>\n",
       "    <tr>\n",
       "      <th>0</th>\n",
       "      <td>1</td>\n",
       "      <td>15634602</td>\n",
       "      <td>Hargrave</td>\n",
       "      <td>619</td>\n",
       "      <td>France</td>\n",
       "      <td>Female</td>\n",
       "      <td>42</td>\n",
       "      <td>2</td>\n",
       "      <td>0.00</td>\n",
       "      <td>1</td>\n",
       "      <td>1</td>\n",
       "      <td>1</td>\n",
       "      <td>101348.88</td>\n",
       "      <td>1</td>\n",
       "    </tr>\n",
       "    <tr>\n",
       "      <th>1</th>\n",
       "      <td>2</td>\n",
       "      <td>15647311</td>\n",
       "      <td>Hill</td>\n",
       "      <td>608</td>\n",
       "      <td>Spain</td>\n",
       "      <td>Female</td>\n",
       "      <td>41</td>\n",
       "      <td>1</td>\n",
       "      <td>83807.86</td>\n",
       "      <td>1</td>\n",
       "      <td>0</td>\n",
       "      <td>1</td>\n",
       "      <td>112542.58</td>\n",
       "      <td>0</td>\n",
       "    </tr>\n",
       "    <tr>\n",
       "      <th>2</th>\n",
       "      <td>3</td>\n",
       "      <td>15619304</td>\n",
       "      <td>Onio</td>\n",
       "      <td>502</td>\n",
       "      <td>France</td>\n",
       "      <td>Female</td>\n",
       "      <td>42</td>\n",
       "      <td>8</td>\n",
       "      <td>159660.80</td>\n",
       "      <td>3</td>\n",
       "      <td>1</td>\n",
       "      <td>0</td>\n",
       "      <td>113931.57</td>\n",
       "      <td>1</td>\n",
       "    </tr>\n",
       "    <tr>\n",
       "      <th>3</th>\n",
       "      <td>4</td>\n",
       "      <td>15701354</td>\n",
       "      <td>Boni</td>\n",
       "      <td>699</td>\n",
       "      <td>France</td>\n",
       "      <td>Female</td>\n",
       "      <td>39</td>\n",
       "      <td>1</td>\n",
       "      <td>0.00</td>\n",
       "      <td>2</td>\n",
       "      <td>0</td>\n",
       "      <td>0</td>\n",
       "      <td>93826.63</td>\n",
       "      <td>0</td>\n",
       "    </tr>\n",
       "    <tr>\n",
       "      <th>4</th>\n",
       "      <td>5</td>\n",
       "      <td>15737888</td>\n",
       "      <td>Mitchell</td>\n",
       "      <td>850</td>\n",
       "      <td>Spain</td>\n",
       "      <td>Female</td>\n",
       "      <td>43</td>\n",
       "      <td>2</td>\n",
       "      <td>125510.82</td>\n",
       "      <td>1</td>\n",
       "      <td>1</td>\n",
       "      <td>1</td>\n",
       "      <td>79084.10</td>\n",
       "      <td>0</td>\n",
       "    </tr>\n",
       "  </tbody>\n",
       "</table>\n",
       "</div>"
      ],
      "text/plain": [
       "   RowNumber  CustomerId   Surname  CreditScore Geography  Gender  Age  \\\n",
       "0          1    15634602  Hargrave          619    France  Female   42   \n",
       "1          2    15647311      Hill          608     Spain  Female   41   \n",
       "2          3    15619304      Onio          502    France  Female   42   \n",
       "3          4    15701354      Boni          699    France  Female   39   \n",
       "4          5    15737888  Mitchell          850     Spain  Female   43   \n",
       "\n",
       "   Tenure    Balance  NumOfProducts  HasCrCard  IsActiveMember  \\\n",
       "0       2       0.00              1          1               1   \n",
       "1       1   83807.86              1          0               1   \n",
       "2       8  159660.80              3          1               0   \n",
       "3       1       0.00              2          0               0   \n",
       "4       2  125510.82              1          1               1   \n",
       "\n",
       "   EstimatedSalary  Exited  \n",
       "0        101348.88       1  \n",
       "1        112542.58       0  \n",
       "2        113931.57       1  \n",
       "3         93826.63       0  \n",
       "4         79084.10       0  "
      ]
     },
     "execution_count": 3,
     "metadata": {},
     "output_type": "execute_result"
    }
   ],
   "source": [
    "# выведем на экран первые 5 строк датасета \n",
    "df.head()"
   ]
  },
  {
   "cell_type": "code",
   "execution_count": 4,
   "id": "8b3b29e1",
   "metadata": {
    "execution": {
     "iopub.execute_input": "2025-08-19T21:22:13.256229Z",
     "iopub.status.busy": "2025-08-19T21:22:13.255932Z",
     "iopub.status.idle": "2025-08-19T21:22:13.261091Z",
     "shell.execute_reply": "2025-08-19T21:22:13.260370Z"
    },
    "papermill": {
     "duration": 0.01039,
     "end_time": "2025-08-19T21:22:13.262323",
     "exception": false,
     "start_time": "2025-08-19T21:22:13.251933",
     "status": "completed"
    },
    "tags": []
   },
   "outputs": [
    {
     "data": {
      "text/plain": [
       "(10000, 14)"
      ]
     },
     "execution_count": 4,
     "metadata": {},
     "output_type": "execute_result"
    }
   ],
   "source": [
    "df.shape"
   ]
  },
  {
   "cell_type": "code",
   "execution_count": 5,
   "id": "ee1c788b",
   "metadata": {
    "execution": {
     "iopub.execute_input": "2025-08-19T21:22:13.269717Z",
     "iopub.status.busy": "2025-08-19T21:22:13.269409Z",
     "iopub.status.idle": "2025-08-19T21:22:13.295605Z",
     "shell.execute_reply": "2025-08-19T21:22:13.294370Z"
    },
    "papermill": {
     "duration": 0.031548,
     "end_time": "2025-08-19T21:22:13.297220",
     "exception": false,
     "start_time": "2025-08-19T21:22:13.265672",
     "status": "completed"
    },
    "tags": []
   },
   "outputs": [
    {
     "name": "stdout",
     "output_type": "stream",
     "text": [
      "<class 'pandas.core.frame.DataFrame'>\n",
      "RangeIndex: 10000 entries, 0 to 9999\n",
      "Data columns (total 14 columns):\n",
      " #   Column           Non-Null Count  Dtype  \n",
      "---  ------           --------------  -----  \n",
      " 0   RowNumber        10000 non-null  int64  \n",
      " 1   CustomerId       10000 non-null  int64  \n",
      " 2   Surname          10000 non-null  object \n",
      " 3   CreditScore      10000 non-null  int64  \n",
      " 4   Geography        10000 non-null  object \n",
      " 5   Gender           10000 non-null  object \n",
      " 6   Age              10000 non-null  int64  \n",
      " 7   Tenure           10000 non-null  int64  \n",
      " 8   Balance          10000 non-null  float64\n",
      " 9   NumOfProducts    10000 non-null  int64  \n",
      " 10  HasCrCard        10000 non-null  int64  \n",
      " 11  IsActiveMember   10000 non-null  int64  \n",
      " 12  EstimatedSalary  10000 non-null  float64\n",
      " 13  Exited           10000 non-null  int64  \n",
      "dtypes: float64(2), int64(9), object(3)\n",
      "memory usage: 1.1+ MB\n"
     ]
    }
   ],
   "source": [
    "df.info()"
   ]
  },
  {
   "cell_type": "code",
   "execution_count": 6,
   "id": "aa5b77e8",
   "metadata": {
    "execution": {
     "iopub.execute_input": "2025-08-19T21:22:13.306197Z",
     "iopub.status.busy": "2025-08-19T21:22:13.305880Z",
     "iopub.status.idle": "2025-08-19T21:22:13.340137Z",
     "shell.execute_reply": "2025-08-19T21:22:13.338928Z"
    },
    "papermill": {
     "duration": 0.04098,
     "end_time": "2025-08-19T21:22:13.341856",
     "exception": false,
     "start_time": "2025-08-19T21:22:13.300876",
     "status": "completed"
    },
    "tags": []
   },
   "outputs": [
    {
     "data": {
      "text/html": [
       "<div>\n",
       "<style scoped>\n",
       "    .dataframe tbody tr th:only-of-type {\n",
       "        vertical-align: middle;\n",
       "    }\n",
       "\n",
       "    .dataframe tbody tr th {\n",
       "        vertical-align: top;\n",
       "    }\n",
       "\n",
       "    .dataframe thead th {\n",
       "        text-align: right;\n",
       "    }\n",
       "</style>\n",
       "<table border=\"1\" class=\"dataframe\">\n",
       "  <thead>\n",
       "    <tr style=\"text-align: right;\">\n",
       "      <th></th>\n",
       "      <th>RowNumber</th>\n",
       "      <th>CustomerId</th>\n",
       "      <th>CreditScore</th>\n",
       "      <th>Age</th>\n",
       "      <th>Tenure</th>\n",
       "      <th>Balance</th>\n",
       "      <th>NumOfProducts</th>\n",
       "      <th>HasCrCard</th>\n",
       "      <th>IsActiveMember</th>\n",
       "      <th>EstimatedSalary</th>\n",
       "      <th>Exited</th>\n",
       "    </tr>\n",
       "  </thead>\n",
       "  <tbody>\n",
       "    <tr>\n",
       "      <th>count</th>\n",
       "      <td>10000.00000</td>\n",
       "      <td>1.000000e+04</td>\n",
       "      <td>10000.000000</td>\n",
       "      <td>10000.000000</td>\n",
       "      <td>10000.000000</td>\n",
       "      <td>10000.000000</td>\n",
       "      <td>10000.000000</td>\n",
       "      <td>10000.00000</td>\n",
       "      <td>10000.000000</td>\n",
       "      <td>10000.000000</td>\n",
       "      <td>10000.000000</td>\n",
       "    </tr>\n",
       "    <tr>\n",
       "      <th>mean</th>\n",
       "      <td>5000.50000</td>\n",
       "      <td>1.569094e+07</td>\n",
       "      <td>650.528800</td>\n",
       "      <td>38.921800</td>\n",
       "      <td>5.012800</td>\n",
       "      <td>76485.889288</td>\n",
       "      <td>1.530200</td>\n",
       "      <td>0.70550</td>\n",
       "      <td>0.515100</td>\n",
       "      <td>100090.239881</td>\n",
       "      <td>0.203700</td>\n",
       "    </tr>\n",
       "    <tr>\n",
       "      <th>std</th>\n",
       "      <td>2886.89568</td>\n",
       "      <td>7.193619e+04</td>\n",
       "      <td>96.653299</td>\n",
       "      <td>10.487806</td>\n",
       "      <td>2.892174</td>\n",
       "      <td>62397.405202</td>\n",
       "      <td>0.581654</td>\n",
       "      <td>0.45584</td>\n",
       "      <td>0.499797</td>\n",
       "      <td>57510.492818</td>\n",
       "      <td>0.402769</td>\n",
       "    </tr>\n",
       "    <tr>\n",
       "      <th>min</th>\n",
       "      <td>1.00000</td>\n",
       "      <td>1.556570e+07</td>\n",
       "      <td>350.000000</td>\n",
       "      <td>18.000000</td>\n",
       "      <td>0.000000</td>\n",
       "      <td>0.000000</td>\n",
       "      <td>1.000000</td>\n",
       "      <td>0.00000</td>\n",
       "      <td>0.000000</td>\n",
       "      <td>11.580000</td>\n",
       "      <td>0.000000</td>\n",
       "    </tr>\n",
       "    <tr>\n",
       "      <th>25%</th>\n",
       "      <td>2500.75000</td>\n",
       "      <td>1.562853e+07</td>\n",
       "      <td>584.000000</td>\n",
       "      <td>32.000000</td>\n",
       "      <td>3.000000</td>\n",
       "      <td>0.000000</td>\n",
       "      <td>1.000000</td>\n",
       "      <td>0.00000</td>\n",
       "      <td>0.000000</td>\n",
       "      <td>51002.110000</td>\n",
       "      <td>0.000000</td>\n",
       "    </tr>\n",
       "    <tr>\n",
       "      <th>50%</th>\n",
       "      <td>5000.50000</td>\n",
       "      <td>1.569074e+07</td>\n",
       "      <td>652.000000</td>\n",
       "      <td>37.000000</td>\n",
       "      <td>5.000000</td>\n",
       "      <td>97198.540000</td>\n",
       "      <td>1.000000</td>\n",
       "      <td>1.00000</td>\n",
       "      <td>1.000000</td>\n",
       "      <td>100193.915000</td>\n",
       "      <td>0.000000</td>\n",
       "    </tr>\n",
       "    <tr>\n",
       "      <th>75%</th>\n",
       "      <td>7500.25000</td>\n",
       "      <td>1.575323e+07</td>\n",
       "      <td>718.000000</td>\n",
       "      <td>44.000000</td>\n",
       "      <td>7.000000</td>\n",
       "      <td>127644.240000</td>\n",
       "      <td>2.000000</td>\n",
       "      <td>1.00000</td>\n",
       "      <td>1.000000</td>\n",
       "      <td>149388.247500</td>\n",
       "      <td>0.000000</td>\n",
       "    </tr>\n",
       "    <tr>\n",
       "      <th>max</th>\n",
       "      <td>10000.00000</td>\n",
       "      <td>1.581569e+07</td>\n",
       "      <td>850.000000</td>\n",
       "      <td>92.000000</td>\n",
       "      <td>10.000000</td>\n",
       "      <td>250898.090000</td>\n",
       "      <td>4.000000</td>\n",
       "      <td>1.00000</td>\n",
       "      <td>1.000000</td>\n",
       "      <td>199992.480000</td>\n",
       "      <td>1.000000</td>\n",
       "    </tr>\n",
       "  </tbody>\n",
       "</table>\n",
       "</div>"
      ],
      "text/plain": [
       "         RowNumber    CustomerId   CreditScore           Age        Tenure  \\\n",
       "count  10000.00000  1.000000e+04  10000.000000  10000.000000  10000.000000   \n",
       "mean    5000.50000  1.569094e+07    650.528800     38.921800      5.012800   \n",
       "std     2886.89568  7.193619e+04     96.653299     10.487806      2.892174   \n",
       "min        1.00000  1.556570e+07    350.000000     18.000000      0.000000   \n",
       "25%     2500.75000  1.562853e+07    584.000000     32.000000      3.000000   \n",
       "50%     5000.50000  1.569074e+07    652.000000     37.000000      5.000000   \n",
       "75%     7500.25000  1.575323e+07    718.000000     44.000000      7.000000   \n",
       "max    10000.00000  1.581569e+07    850.000000     92.000000     10.000000   \n",
       "\n",
       "             Balance  NumOfProducts    HasCrCard  IsActiveMember  \\\n",
       "count   10000.000000   10000.000000  10000.00000    10000.000000   \n",
       "mean    76485.889288       1.530200      0.70550        0.515100   \n",
       "std     62397.405202       0.581654      0.45584        0.499797   \n",
       "min         0.000000       1.000000      0.00000        0.000000   \n",
       "25%         0.000000       1.000000      0.00000        0.000000   \n",
       "50%     97198.540000       1.000000      1.00000        1.000000   \n",
       "75%    127644.240000       2.000000      1.00000        1.000000   \n",
       "max    250898.090000       4.000000      1.00000        1.000000   \n",
       "\n",
       "       EstimatedSalary        Exited  \n",
       "count     10000.000000  10000.000000  \n",
       "mean     100090.239881      0.203700  \n",
       "std       57510.492818      0.402769  \n",
       "min          11.580000      0.000000  \n",
       "25%       51002.110000      0.000000  \n",
       "50%      100193.915000      0.000000  \n",
       "75%      149388.247500      0.000000  \n",
       "max      199992.480000      1.000000  "
      ]
     },
     "execution_count": 6,
     "metadata": {},
     "output_type": "execute_result"
    }
   ],
   "source": [
    "df.describe()"
   ]
  },
  {
   "cell_type": "markdown",
   "id": "171ecef9",
   "metadata": {
    "papermill": {
     "duration": 0.003715,
     "end_time": "2025-08-19T21:22:13.348992",
     "exception": false,
     "start_time": "2025-08-19T21:22:13.345277",
     "status": "completed"
    },
    "tags": []
   },
   "source": [
    "Статистические характеристики каждого столбца датасета соответствуют целям анализа - некорректных значений нет."
   ]
  },
  {
   "cell_type": "markdown",
   "id": "56ebf8c9",
   "metadata": {
    "papermill": {
     "duration": 0.003142,
     "end_time": "2025-08-19T21:22:13.356584",
     "exception": false,
     "start_time": "2025-08-19T21:22:13.353442",
     "status": "completed"
    },
    "tags": []
   },
   "source": [
    "# 2. Разведочный анализ данных"
   ]
  },
  {
   "cell_type": "code",
   "execution_count": 7,
   "id": "a43caee8",
   "metadata": {
    "execution": {
     "iopub.execute_input": "2025-08-19T21:22:13.364065Z",
     "iopub.status.busy": "2025-08-19T21:22:13.363770Z",
     "iopub.status.idle": "2025-08-19T21:22:13.371201Z",
     "shell.execute_reply": "2025-08-19T21:22:13.370592Z"
    },
    "papermill": {
     "duration": 0.013153,
     "end_time": "2025-08-19T21:22:13.372806",
     "exception": false,
     "start_time": "2025-08-19T21:22:13.359653",
     "status": "completed"
    },
    "tags": []
   },
   "outputs": [
    {
     "data": {
      "text/plain": [
       "RowNumber          0\n",
       "CustomerId         0\n",
       "Surname            0\n",
       "CreditScore        0\n",
       "Geography          0\n",
       "Gender             0\n",
       "Age                0\n",
       "Tenure             0\n",
       "Balance            0\n",
       "NumOfProducts      0\n",
       "HasCrCard          0\n",
       "IsActiveMember     0\n",
       "EstimatedSalary    0\n",
       "Exited             0\n",
       "dtype: int64"
      ]
     },
     "execution_count": 7,
     "metadata": {},
     "output_type": "execute_result"
    }
   ],
   "source": [
    "# работа с пропусками\n",
    "df.isnull().sum()"
   ]
  },
  {
   "cell_type": "markdown",
   "id": "146b0efc",
   "metadata": {
    "papermill": {
     "duration": 0.003028,
     "end_time": "2025-08-19T21:22:13.379597",
     "exception": false,
     "start_time": "2025-08-19T21:22:13.376569",
     "status": "completed"
    },
    "tags": []
   },
   "source": [
    "Как видим, в датасете нет пропусков"
   ]
  },
  {
   "cell_type": "code",
   "execution_count": 8,
   "id": "3a922aaa",
   "metadata": {
    "execution": {
     "iopub.execute_input": "2025-08-19T21:22:13.389416Z",
     "iopub.status.busy": "2025-08-19T21:22:13.389105Z",
     "iopub.status.idle": "2025-08-19T21:22:13.400091Z",
     "shell.execute_reply": "2025-08-19T21:22:13.399038Z"
    },
    "papermill": {
     "duration": 0.016888,
     "end_time": "2025-08-19T21:22:13.401475",
     "exception": false,
     "start_time": "2025-08-19T21:22:13.384587",
     "status": "completed"
    },
    "tags": []
   },
   "outputs": [
    {
     "name": "stdout",
     "output_type": "stream",
     "text": [
      "0\n",
      "0\n"
     ]
    }
   ],
   "source": [
    "# проверим датасет на наличие дубликатов\n",
    "print(df.duplicated().sum())\n",
    "print(df['CustomerId'].duplicated().sum())"
   ]
  },
  {
   "cell_type": "code",
   "execution_count": 9,
   "id": "1ee6af76",
   "metadata": {
    "execution": {
     "iopub.execute_input": "2025-08-19T21:22:13.410134Z",
     "iopub.status.busy": "2025-08-19T21:22:13.409861Z",
     "iopub.status.idle": "2025-08-19T21:22:13.419235Z",
     "shell.execute_reply": "2025-08-19T21:22:13.418021Z"
    },
    "papermill": {
     "duration": 0.015629,
     "end_time": "2025-08-19T21:22:13.420791",
     "exception": false,
     "start_time": "2025-08-19T21:22:13.405162",
     "status": "completed"
    },
    "tags": []
   },
   "outputs": [
    {
     "name": "stdout",
     "output_type": "stream",
     "text": [
      "['France' 'Spain' 'Germany']\n",
      "['Female' 'Male']\n",
      "[1 0]\n",
      "[1 0]\n",
      "[1 0]\n"
     ]
    }
   ],
   "source": [
    "# проверим на корректность содержимое столбцов с категориальными переменными\n",
    "print(df['Geography'].unique())\n",
    "print(df['Gender'].unique())\n",
    "print(df['HasCrCard'].unique())\n",
    "print(df['IsActiveMember'].unique())\n",
    "print(df['Exited'].unique())"
   ]
  },
  {
   "cell_type": "code",
   "execution_count": 10,
   "id": "28abcfb0",
   "metadata": {
    "execution": {
     "iopub.execute_input": "2025-08-19T21:22:13.430686Z",
     "iopub.status.busy": "2025-08-19T21:22:13.430406Z",
     "iopub.status.idle": "2025-08-19T21:22:13.454405Z",
     "shell.execute_reply": "2025-08-19T21:22:13.453762Z"
    },
    "papermill": {
     "duration": 0.030152,
     "end_time": "2025-08-19T21:22:13.455477",
     "exception": false,
     "start_time": "2025-08-19T21:22:13.425325",
     "status": "completed"
    },
    "tags": []
   },
   "outputs": [
    {
     "data": {
      "text/html": [
       "<div>\n",
       "<style scoped>\n",
       "    .dataframe tbody tr th:only-of-type {\n",
       "        vertical-align: middle;\n",
       "    }\n",
       "\n",
       "    .dataframe tbody tr th {\n",
       "        vertical-align: top;\n",
       "    }\n",
       "\n",
       "    .dataframe thead th {\n",
       "        text-align: right;\n",
       "    }\n",
       "</style>\n",
       "<table border=\"1\" class=\"dataframe\">\n",
       "  <thead>\n",
       "    <tr style=\"text-align: right;\">\n",
       "      <th></th>\n",
       "      <th>RowNumber</th>\n",
       "      <th>CustomerId</th>\n",
       "      <th>CreditScore</th>\n",
       "      <th>Age</th>\n",
       "      <th>Tenure</th>\n",
       "      <th>Balance</th>\n",
       "      <th>NumOfProducts</th>\n",
       "      <th>HasCrCard</th>\n",
       "      <th>IsActiveMember</th>\n",
       "      <th>EstimatedSalary</th>\n",
       "      <th>Exited</th>\n",
       "    </tr>\n",
       "  </thead>\n",
       "  <tbody>\n",
       "    <tr>\n",
       "      <th>count</th>\n",
       "      <td>10000.00</td>\n",
       "      <td>10000.00</td>\n",
       "      <td>10000.00</td>\n",
       "      <td>10000.00</td>\n",
       "      <td>10000.00</td>\n",
       "      <td>10000.00</td>\n",
       "      <td>10000.00</td>\n",
       "      <td>10000.00</td>\n",
       "      <td>10000.00</td>\n",
       "      <td>10000.00</td>\n",
       "      <td>10000.00</td>\n",
       "    </tr>\n",
       "    <tr>\n",
       "      <th>mean</th>\n",
       "      <td>5000.50</td>\n",
       "      <td>15690940.57</td>\n",
       "      <td>650.53</td>\n",
       "      <td>38.92</td>\n",
       "      <td>5.01</td>\n",
       "      <td>76485.89</td>\n",
       "      <td>1.53</td>\n",
       "      <td>0.71</td>\n",
       "      <td>0.52</td>\n",
       "      <td>100090.24</td>\n",
       "      <td>0.20</td>\n",
       "    </tr>\n",
       "    <tr>\n",
       "      <th>std</th>\n",
       "      <td>2886.90</td>\n",
       "      <td>71936.19</td>\n",
       "      <td>96.65</td>\n",
       "      <td>10.49</td>\n",
       "      <td>2.89</td>\n",
       "      <td>62397.41</td>\n",
       "      <td>0.58</td>\n",
       "      <td>0.46</td>\n",
       "      <td>0.50</td>\n",
       "      <td>57510.49</td>\n",
       "      <td>0.40</td>\n",
       "    </tr>\n",
       "    <tr>\n",
       "      <th>min</th>\n",
       "      <td>1.00</td>\n",
       "      <td>15565701.00</td>\n",
       "      <td>350.00</td>\n",
       "      <td>18.00</td>\n",
       "      <td>0.00</td>\n",
       "      <td>0.00</td>\n",
       "      <td>1.00</td>\n",
       "      <td>0.00</td>\n",
       "      <td>0.00</td>\n",
       "      <td>11.58</td>\n",
       "      <td>0.00</td>\n",
       "    </tr>\n",
       "    <tr>\n",
       "      <th>25%</th>\n",
       "      <td>2500.75</td>\n",
       "      <td>15628528.25</td>\n",
       "      <td>584.00</td>\n",
       "      <td>32.00</td>\n",
       "      <td>3.00</td>\n",
       "      <td>0.00</td>\n",
       "      <td>1.00</td>\n",
       "      <td>0.00</td>\n",
       "      <td>0.00</td>\n",
       "      <td>51002.11</td>\n",
       "      <td>0.00</td>\n",
       "    </tr>\n",
       "    <tr>\n",
       "      <th>50%</th>\n",
       "      <td>5000.50</td>\n",
       "      <td>15690738.00</td>\n",
       "      <td>652.00</td>\n",
       "      <td>37.00</td>\n",
       "      <td>5.00</td>\n",
       "      <td>97198.54</td>\n",
       "      <td>1.00</td>\n",
       "      <td>1.00</td>\n",
       "      <td>1.00</td>\n",
       "      <td>100193.91</td>\n",
       "      <td>0.00</td>\n",
       "    </tr>\n",
       "    <tr>\n",
       "      <th>75%</th>\n",
       "      <td>7500.25</td>\n",
       "      <td>15753233.75</td>\n",
       "      <td>718.00</td>\n",
       "      <td>44.00</td>\n",
       "      <td>7.00</td>\n",
       "      <td>127644.24</td>\n",
       "      <td>2.00</td>\n",
       "      <td>1.00</td>\n",
       "      <td>1.00</td>\n",
       "      <td>149388.25</td>\n",
       "      <td>0.00</td>\n",
       "    </tr>\n",
       "    <tr>\n",
       "      <th>max</th>\n",
       "      <td>10000.00</td>\n",
       "      <td>15815690.00</td>\n",
       "      <td>850.00</td>\n",
       "      <td>92.00</td>\n",
       "      <td>10.00</td>\n",
       "      <td>250898.09</td>\n",
       "      <td>4.00</td>\n",
       "      <td>1.00</td>\n",
       "      <td>1.00</td>\n",
       "      <td>199992.48</td>\n",
       "      <td>1.00</td>\n",
       "    </tr>\n",
       "  </tbody>\n",
       "</table>\n",
       "</div>"
      ],
      "text/plain": [
       "       RowNumber  CustomerId  CreditScore      Age   Tenure   Balance  \\\n",
       "count   10000.00    10000.00     10000.00 10000.00 10000.00  10000.00   \n",
       "mean     5000.50 15690940.57       650.53    38.92     5.01  76485.89   \n",
       "std      2886.90    71936.19        96.65    10.49     2.89  62397.41   \n",
       "min         1.00 15565701.00       350.00    18.00     0.00      0.00   \n",
       "25%      2500.75 15628528.25       584.00    32.00     3.00      0.00   \n",
       "50%      5000.50 15690738.00       652.00    37.00     5.00  97198.54   \n",
       "75%      7500.25 15753233.75       718.00    44.00     7.00 127644.24   \n",
       "max     10000.00 15815690.00       850.00    92.00    10.00 250898.09   \n",
       "\n",
       "       NumOfProducts  HasCrCard  IsActiveMember  EstimatedSalary   Exited  \n",
       "count       10000.00   10000.00        10000.00         10000.00 10000.00  \n",
       "mean            1.53       0.71            0.52        100090.24     0.20  \n",
       "std             0.58       0.46            0.50         57510.49     0.40  \n",
       "min             1.00       0.00            0.00            11.58     0.00  \n",
       "25%             1.00       0.00            0.00         51002.11     0.00  \n",
       "50%             1.00       1.00            1.00        100193.91     0.00  \n",
       "75%             2.00       1.00            1.00        149388.25     0.00  \n",
       "max             4.00       1.00            1.00        199992.48     1.00  "
      ]
     },
     "execution_count": 10,
     "metadata": {},
     "output_type": "execute_result"
    }
   ],
   "source": [
    "# проверка на выбросы\n",
    "pd.set_option(\"display.float_format\", \"{:.2f}\".format)\n",
    "df.describe()"
   ]
  },
  {
   "cell_type": "markdown",
   "id": "079ff144",
   "metadata": {
    "papermill": {
     "duration": 0.003185,
     "end_time": "2025-08-19T21:22:13.462392",
     "exception": false,
     "start_time": "2025-08-19T21:22:13.459207",
     "status": "completed"
    },
    "tags": []
   },
   "source": [
    "Заметим, что в столбце EstimatedSalary минимальное значение 11.58, что является аномально низкой заработной платой (минимульная зарплата в США - 1160 долларов в месяц). Проверим, является ли это выбросом."
   ]
  },
  {
   "cell_type": "code",
   "execution_count": 11,
   "id": "4b33d2b5",
   "metadata": {
    "execution": {
     "iopub.execute_input": "2025-08-19T21:22:13.470237Z",
     "iopub.status.busy": "2025-08-19T21:22:13.469970Z",
     "iopub.status.idle": "2025-08-19T21:22:13.479900Z",
     "shell.execute_reply": "2025-08-19T21:22:13.478998Z"
    },
    "papermill": {
     "duration": 0.01554,
     "end_time": "2025-08-19T21:22:13.481266",
     "exception": false,
     "start_time": "2025-08-19T21:22:13.465726",
     "status": "completed"
    },
    "tags": []
   },
   "outputs": [
    {
     "data": {
      "text/plain": [
       "67"
      ]
     },
     "execution_count": 11,
     "metadata": {},
     "output_type": "execute_result"
    }
   ],
   "source": [
    "df[df['EstimatedSalary']<1160]['CustomerId'].count()"
   ]
  },
  {
   "cell_type": "markdown",
   "id": "583eec64",
   "metadata": {
    "papermill": {
     "duration": 0.003317,
     "end_time": "2025-08-19T21:22:13.488303",
     "exception": false,
     "start_time": "2025-08-19T21:22:13.484986",
     "status": "completed"
    },
    "tags": []
   },
   "source": [
    "Менее 1% клиентов имеют аномально низкую заработную плату, поэтому удалим эти строки.\n"
   ]
  },
  {
   "cell_type": "code",
   "execution_count": 12,
   "id": "02aa6111",
   "metadata": {
    "execution": {
     "iopub.execute_input": "2025-08-19T21:22:13.497472Z",
     "iopub.status.busy": "2025-08-19T21:22:13.497244Z",
     "iopub.status.idle": "2025-08-19T21:22:13.503020Z",
     "shell.execute_reply": "2025-08-19T21:22:13.502171Z"
    },
    "papermill": {
     "duration": 0.011285,
     "end_time": "2025-08-19T21:22:13.504206",
     "exception": false,
     "start_time": "2025-08-19T21:22:13.492921",
     "status": "completed"
    },
    "tags": []
   },
   "outputs": [],
   "source": [
    "df = df[df['EstimatedSalary']>1160]"
   ]
  }
 ],
 "metadata": {
  "kaggle": {
   "accelerator": "none",
   "dataSources": [
    {
     "datasetId": 2008274,
     "sourceId": 3322096,
     "sourceType": "datasetVersion"
    }
   ],
   "dockerImageVersionId": 31089,
   "isGpuEnabled": false,
   "isInternetEnabled": true,
   "language": "python",
   "sourceType": "notebook"
  },
  "kernelspec": {
   "display_name": "Python 3",
   "language": "python",
   "name": "python3"
  },
  "language_info": {
   "codemirror_mode": {
    "name": "ipython",
    "version": 3
   },
   "file_extension": ".py",
   "mimetype": "text/x-python",
   "name": "python",
   "nbconvert_exporter": "python",
   "pygments_lexer": "ipython3",
   "version": "3.11.13"
  },
  "papermill": {
   "default_parameters": {},
   "duration": 20.579595,
   "end_time": "2025-08-19T21:22:16.449354",
   "environment_variables": {},
   "exception": null,
   "input_path": "__notebook__.ipynb",
   "output_path": "__notebook__.ipynb",
   "parameters": {},
   "start_time": "2025-08-19T21:21:55.869759",
   "version": "2.6.0"
  }
 },
 "nbformat": 4,
 "nbformat_minor": 5
}
